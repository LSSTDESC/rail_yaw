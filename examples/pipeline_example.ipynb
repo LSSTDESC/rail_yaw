{
 "cells": [
  {
   "cell_type": "markdown",
   "id": "7da64a2d-7fba-4dd5-9ebf-4e73a4a85cc0",
   "metadata": {},
   "source": [
    "### Imports"
   ]
  },
  {
   "cell_type": "code",
   "execution_count": null,
   "id": "1c72f501-8bee-4445-80c0-38e2b5b701d5",
   "metadata": {},
   "outputs": [],
   "source": [
    "# step 1\n",
    "from yaw import UniformRandoms\n",
    "from rail.yaw_rail.utils import get_dc2_test_data\n",
    "\n",
    "from rail.yaw_rail import (\n",
    "    YawCacheCreate,     # step 2\n",
    "    YawAutoCorrelate,   # step 3\n",
    "    YawCrossCorrelate,  # step 4\n",
    "    YawSummarize,       # step 5\n",
    "    YawCacheDrop,       # step 6\n",
    ")  # equivalent: from rail.yaw_rail import *\n",
    "from rail.yaw_rail.cache import stage_helper  # utility for YawCacheCreate\n",
    "\n",
    "from rail.core.data import TableHandle\n",
    "# configure RAIL datastore to allow overwriting data\n",
    "from rail.core.stage import RailStage\n",
    "DS = RailStage.data_store\n",
    "DS.__class__.allow_overwrite = True"
   ]
  },
  {
   "cell_type": "code",
   "execution_count": null,
   "id": "04d54b77-04d2-4712-bbbe-0c388b5be37b",
   "metadata": {},
   "outputs": [],
   "source": [
    "VERBOSE = \"debug\"  # verbosity level of built-in logger, disable with \"error\""
   ]
  },
  {
   "cell_type": "code",
   "execution_count": null,
   "id": "de4a185c-7b9e-477f-a4e8-dafe2d0bd74f",
   "metadata": {},
   "outputs": [],
   "source": [
    "mock_data = get_dc2_test_data()  # downloads test data, cached for future calls\n",
    "redshifts = mock_data[\"z\"].to_numpy()\n",
    "zmin = redshifts.min()\n",
    "zmax = redshifts.max()\n",
    "n_data = len(mock_data)\n",
    "f\"N={n_data}, {zmin:.1f}<z<{zmax:.1f}\""
   ]
  },
  {
   "cell_type": "code",
   "execution_count": null,
   "id": "6f85fe28-421e-4efc-a7e0-8b17bf66312d",
   "metadata": {},
   "outputs": [],
   "source": [
    "angular_rng = UniformRandoms(\n",
    "    mock_data[\"ra\"].min(),\n",
    "    mock_data[\"ra\"].max(),\n",
    "    mock_data[\"dec\"].min(),\n",
    "    mock_data[\"dec\"].max(),\n",
    "    seed=12345,\n",
    ")\n",
    "mock_rand = angular_rng.generate(n_data * 10, draw_from=dict(z=redshifts))"
   ]
  },
  {
   "cell_type": "code",
   "execution_count": null,
   "id": "ab0b84c7-baca-4528-b6e1-1c134fd9d241",
   "metadata": {},
   "outputs": [],
   "source": [
    "corr_config = dict(\n",
    "    rmin=100,   # in kpc\n",
    "    rmax=1000,  # in kpc\n",
    "    # rweight=None,\n",
    "    # rbin_num=50,\n",
    "    zmin=zmin,\n",
    "    zmax=zmax,\n",
    "    zbin_num=8,  # default: 30\n",
    "    # method=\"linear\",\n",
    "    # zbins=np.linspace(zmin, zmax, zbin_num+1)\n",
    "    # crosspatch=True,\n",
    "    # thread_num=None,\n",
    "    verbose=VERBOSE,  # default: \"info\"\n",
    ")"
   ]
  },
  {
   "cell_type": "markdown",
   "id": "3234d62a-8966-4e09-bbc4-9afa0aaffd18",
   "metadata": {},
   "source": [
    "## Build the stage we are going to use, making sure to give them unique names"
   ]
  },
  {
   "cell_type": "code",
   "execution_count": null,
   "id": "13d26fbe-b7dd-41d4-8f5e-971923840bff",
   "metadata": {},
   "outputs": [],
   "source": [
    "cache_create_ref_stage = YawCacheCreate.make_stage(\n",
    "    name=\"ref\",\n",
    "    aliases=stage_helper(\"ref\"),\n",
    "    path=\"./test_ref\",\n",
    "    overwrite=True,  # default: False\n",
    "    ra_name=\"ra\",\n",
    "    dec_name=\"dec\",\n",
    "    redshift_name=\"z\",\n",
    "    # weight_name=,\n",
    "    # patches=,\n",
    "    # patch_name=,\n",
    "    n_patches=5,\n",
    "    verbose=VERBOSE,  # default: \"info\"\n",
    ")"
   ]
  },
  {
   "cell_type": "code",
   "execution_count": null,
   "id": "91c9d95f-459d-4761-9f90-9ec54293ad26",
   "metadata": {},
   "outputs": [],
   "source": [
    "cache_create_unk_stage  = YawCacheCreate.make_stage(\n",
    "    name=\"unk\",\n",
    "    aliases=stage_helper(\"unk\"),\n",
    "    path=\"./test_unk\",\n",
    "    overwrite=True,  # default: False\n",
    "    ra_name=\"ra\",\n",
    "    dec_name=\"dec\",\n",
    "    # redshift_name=,\n",
    "    # weight_name=,\n",
    "    patches=\"./test_ref\",\n",
    "    # patch_name=,\n",
    "    # n_patches=,\n",
    "    verbose=VERBOSE,  # default: \"info\"\n",
    ")"
   ]
  },
  {
   "cell_type": "code",
   "execution_count": null,
   "id": "8dfc21f6-60f8-4901-8f2e-5971100c6adc",
   "metadata": {},
   "outputs": [],
   "source": [
    "correlate_ss_stage  = YawAutoCorrelate.make_stage(name='corr_ss', **corr_config)"
   ]
  },
  {
   "cell_type": "code",
   "execution_count": null,
   "id": "08011e46-7054-4d21-82e6-ccdd47e10687",
   "metadata": {},
   "outputs": [],
   "source": [
    "correlate_sp_stage  = YawCrossCorrelate.make_stage(name='corr_sp', **corr_config)"
   ]
  },
  {
   "cell_type": "code",
   "execution_count": null,
   "id": "4cc725f0-d532-4538-aaf7-e202c730a5f7",
   "metadata": {},
   "outputs": [],
   "source": [
    "estimate_stage = YawSummarize.make_stage(\n",
    "    name='estimate',\n",
    "    # cross_est=,\n",
    "    # ref_est=,\n",
    "    # unk_est=,\n",
    "    # crosspatch=True,\n",
    "    verbose=VERBOSE,  # default: \"info\"\n",
    ")"
   ]
  },
  {
   "cell_type": "code",
   "execution_count": null,
   "id": "3b38e2a5-ea09-482a-8060-21b90d1356f6",
   "metadata": {},
   "outputs": [],
   "source": [
    "drop_ref_stage = YawCacheDrop.make_stage(name='drop_ref')"
   ]
  },
  {
   "cell_type": "code",
   "execution_count": null,
   "id": "703875c4-38e4-465a-b5e6-998c76f226b2",
   "metadata": {},
   "outputs": [],
   "source": [
    "drop_unk_stage  = YawCacheDrop.make_stage(name='drop_unk')"
   ]
  },
  {
   "cell_type": "markdown",
   "id": "4f3266ec-2519-42a5-8f02-dc2c45059996",
   "metadata": {},
   "source": [
    "### Get handles for the input data, so that we can track connections"
   ]
  },
  {
   "cell_type": "code",
   "execution_count": null,
   "id": "b559551a-1ecb-466a-bc3f-5c83c69df72c",
   "metadata": {},
   "outputs": [],
   "source": [
    "mock_data_handle = DS.add_data('input_data', mock_data, TableHandle)\n",
    "mock_random_handle = DS.add_data('input_random', mock_rand, TableHandle)"
   ]
  },
  {
   "cell_type": "markdown",
   "id": "043b61e4-75e5-44bf-b114-2d649c4cff0e",
   "metadata": {},
   "source": [
    "### Run the pipeline in NB, using handles to establish connections"
   ]
  },
  {
   "cell_type": "code",
   "execution_count": null,
   "id": "d12e4e07-eeae-4e3b-96bf-7a369d65305b",
   "metadata": {},
   "outputs": [],
   "source": [
    "cache_ref = cache_create_ref_stage.create(\n",
    "    data=mock_data_handle,\n",
    "    rand=mock_random_handle,\n",
    ")"
   ]
  },
  {
   "cell_type": "code",
   "execution_count": null,
   "id": "9fd59f6c-198d-4f89-95aa-96f120179f1f",
   "metadata": {},
   "outputs": [],
   "source": [
    "cache_unk = cache_create_unk_stage.create(\n",
    "    data=mock_data_handle,\n",
    ")"
   ]
  },
  {
   "cell_type": "code",
   "execution_count": null,
   "id": "3e890724-d478-40c6-ac5e-7c69200b27d8",
   "metadata": {},
   "outputs": [],
   "source": [
    "w_ss = correlate_ss_stage.correlate(\n",
    "    sample=cache_ref,\n",
    ")"
   ]
  },
  {
   "cell_type": "code",
   "execution_count": null,
   "id": "b641b0b5-822e-45fe-af51-1f163c47218d",
   "metadata": {},
   "outputs": [],
   "source": [
    "w_sp = correlate_sp_stage.correlate(\n",
    "    reference=cache_ref,\n",
    "    unknown=cache_unk,\n",
    ")"
   ]
  },
  {
   "cell_type": "code",
   "execution_count": null,
   "id": "20922adb-98b7-4de7-8fd8-cc16d000a2b1",
   "metadata": {},
   "outputs": [],
   "source": [
    "estimate = estimate_stage.summarize(\n",
    "    cross_corr=w_sp,\n",
    "    ref_corr=w_ss,\n",
    "    # default: None\n",
    "    # unk_corr=None,\n",
    ")"
   ]
  },
  {
   "cell_type": "code",
   "execution_count": null,
   "id": "b874b3fa-c13d-46d3-bc3e-9bfcb126ad34",
   "metadata": {},
   "outputs": [],
   "source": [
    "drop_ref_stage.drop(cache_ref)"
   ]
  },
  {
   "cell_type": "code",
   "execution_count": null,
   "id": "92309098-4d95-48e8-8989-a780b332af29",
   "metadata": {},
   "outputs": [],
   "source": [
    "drop_unk_stage.drop(cache_unk)"
   ]
  },
  {
   "cell_type": "markdown",
   "id": "49d86b3c-24b2-42a8-a3af-2086b02e6889",
   "metadata": {},
   "source": [
    "### Make a ceci pipeline and add all the stages"
   ]
  },
  {
   "cell_type": "code",
   "execution_count": null,
   "id": "d2a0b61c-dfb7-47d4-abaf-59ad3bc5d710",
   "metadata": {},
   "outputs": [],
   "source": [
    "import ceci\n",
    "pipe = ceci.Pipeline.interactive()\n",
    "stages = [\n",
    "    cache_create_ref_stage,\n",
    "    cache_create_unk_stage,\n",
    "    correlate_ss_stage, \n",
    "    correlate_sp_stage,\n",
    "    estimate_stage,\n",
    "    drop_ref_stage,\n",
    "    drop_unk_stage,\n",
    "]\n",
    "   \n",
    "for stage_ in stages:\n",
    "    pipe.add_stage(stage_)"
   ]
  },
  {
   "cell_type": "markdown",
   "id": "ca7c48d3-37b0-47f8-a27c-9457a7971d8b",
   "metadata": {},
   "source": [
    "### Initialize the pipeline, providing dummy / null values for unused inputs"
   ]
  },
  {
   "cell_type": "code",
   "execution_count": null,
   "id": "20138d00-baa0-4274-b8b5-ed057487903b",
   "metadata": {},
   "outputs": [],
   "source": [
    "pipe.initialize(\n",
    "    dict(\n",
    "        input_data=\"dummy.in\",\n",
    "        input_random=\"dummy.in\",\n",
    "        rand_unk=\"/dev/null\",\n",
    "        unk_corr=\"/dev/null\",\n",
    "    ), \n",
    "    dict(\n",
    "        output_dir=\".\",\n",
    "        log_dir=\".\",\n",
    "        resume=False\n",
    "    ), \n",
    "    None,\n",
    ")"
   ]
  },
  {
   "cell_type": "code",
   "execution_count": null,
   "id": "b504e39d-4780-4ce2-9e1f-8af974065e3f",
   "metadata": {},
   "outputs": [],
   "source": [
    "pipe.save('pipeline.yml')"
   ]
  },
  {
   "cell_type": "code",
   "execution_count": null,
   "id": "9407d646-143e-4e7a-8b5a-2047e9b8a957",
   "metadata": {},
   "outputs": [],
   "source": []
  }
 ],
 "metadata": {
  "kernelspec": {
   "display_name": "Python 3 (ipykernel)",
   "language": "python",
   "name": "python3"
  },
  "language_info": {
   "codemirror_mode": {
    "name": "ipython",
    "version": 3
   },
   "file_extension": ".py",
   "mimetype": "text/x-python",
   "name": "python",
   "nbconvert_exporter": "python",
   "pygments_lexer": "ipython3",
   "version": "3.12.2"
  }
 },
 "nbformat": 4,
 "nbformat_minor": 5
}

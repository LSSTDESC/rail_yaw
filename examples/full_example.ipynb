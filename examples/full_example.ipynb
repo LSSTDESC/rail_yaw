{
 "cells": [
  {
   "cell_type": "code",
   "execution_count": null,
   "metadata": {},
   "outputs": [],
   "source": [
    "from yaw import UniformRandoms\n",
    "\n",
    "from rail.yaw_rail import (\n",
    "    YawAutoCorrelate,\n",
    "    YawCacheCreate,\n",
    "    YawCacheDrop,\n",
    "    YawCrossCorrelate,\n",
    "    YawSummarize,\n",
    ")  # equivalent: from rail.yaw_rail import *\n",
    "from rail.yaw_rail.utils import get_dc2_test_data"
   ]
  },
  {
   "cell_type": "code",
   "execution_count": null,
   "metadata": {},
   "outputs": [],
   "source": [
    "VERBOSE = \"debug\""
   ]
  },
  {
   "cell_type": "code",
   "execution_count": null,
   "metadata": {},
   "outputs": [],
   "source": [
    "mock_data = get_dc2_test_data()  # downloads test data, cached for future calls\n",
    "redshifts = mock_data[\"z\"].to_numpy()\n",
    "zmin = redshifts.min()\n",
    "zmax = redshifts.max()\n",
    "n_data = len(mock_data)"
   ]
  },
  {
   "cell_type": "code",
   "execution_count": null,
   "metadata": {},
   "outputs": [],
   "source": [
    "angular_rng = UniformRandoms(\n",
    "    mock_data[\"ra\"].min(),\n",
    "    mock_data[\"ra\"].max(),\n",
    "    mock_data[\"dec\"].min(),\n",
    "    mock_data[\"dec\"].max(),\n",
    "    seed=12345,\n",
    ")\n",
    "mock_rand = angular_rng.generate(n_data * 10, draw_from=dict(z=redshifts))"
   ]
  },
  {
   "cell_type": "code",
   "execution_count": null,
   "metadata": {},
   "outputs": [],
   "source": [
    "cache_ref = YawCacheCreate.make_stage(\n",
    "    name=\"ref\",\n",
    "    path=\"./test_ref\",\n",
    "    ra_name=\"ra\",\n",
    "    dec_name=\"dec\",\n",
    "    redshift_name=\"z\",\n",
    "    # weight_name=,\n",
    "    # patches=,\n",
    "    # patch_name=,\n",
    "    n_patches=5,\n",
    "    verbose=VERBOSE,  # default: \"info\"\n",
    ").create(\n",
    "    data=mock_data,\n",
    "    rand=mock_rand,\n",
    ")"
   ]
  },
  {
   "cell_type": "code",
   "execution_count": null,
   "metadata": {},
   "outputs": [],
   "source": [
    "cache_unk = YawCacheCreate.make_stage(\n",
    "    name=\"unk\",\n",
    "    path=\"./test_unk\",\n",
    "    ra_name=\"ra\",\n",
    "    dec_name=\"dec\",\n",
    "    # weight_name=,\n",
    "    patches=\"./test_ref\",\n",
    "    # patch_name=,\n",
    "    # n_patches=,\n",
    "    verbose=VERBOSE,  # default: \"info\"\n",
    ").create(\n",
    "    data=mock_data,\n",
    "    rand=mock_rand,\n",
    ")"
   ]
  },
  {
   "cell_type": "code",
   "execution_count": null,
   "metadata": {},
   "outputs": [],
   "source": [
    "corr_config = dict(\n",
    "    rmin=100,   # in kpc\n",
    "    rmax=1000,  # in kpc\n",
    "    # rweight=None,\n",
    "    # rbin_num=50,\n",
    "    zmin=zmin,\n",
    "    zmax=zmax,\n",
    "    zbin_num=8,  # default: 30\n",
    "    # method=\"linear\",\n",
    "    # zbins=np.linspace(zmin, zmax, zbin_num+1)\n",
    "    # crosspatch=True,\n",
    "    # thread_num=None,\n",
    "    verbose=VERBOSE,  # default: \"info\"\n",
    ")"
   ]
  },
  {
   "cell_type": "code",
   "execution_count": null,
   "metadata": {},
   "outputs": [],
   "source": [
    "w_ss = YawAutoCorrelate.make_stage(\n",
    "    name=\"w_ss\",\n",
    "    **corr_config\n",
    ").correlate(\n",
    "    sample=cache_ref,\n",
    ")"
   ]
  },
  {
   "cell_type": "code",
   "execution_count": null,
   "metadata": {},
   "outputs": [],
   "source": [
    "w_sp = YawCrossCorrelate.make_stage(\n",
    "    name=\"w_sp\",\n",
    "    **corr_config\n",
    ").correlate(\n",
    "    reference=cache_ref,\n",
    "    unknown=cache_unk,\n",
    ")"
   ]
  },
  {
   "cell_type": "code",
   "execution_count": null,
   "metadata": {},
   "outputs": [],
   "source": [
    "estimate = YawSummarize.make_stage(\n",
    "    # cross_est=,\n",
    "    # ref_est=,\n",
    "    # unk_est=,\n",
    "    # crosspatch=True,\n",
    "    verbose=VERBOSE,  # default: \"info\"\n",
    ").summarize(\n",
    "    cross_corr=w_sp,\n",
    "    ref_corr=w_ss,\n",
    ")\n",
    "\n",
    "ax = estimate[\"output\"].data.plot(xlim=[zmin, zmax])\n",
    "mock_data.hist(\"z\", bins=w_sp.data.edges, density=True, color=\"0.8\", ax=ax)\n",
    "estimate[\"yaw_cc\"].data.normalised().plot()"
   ]
  },
  {
   "cell_type": "code",
   "execution_count": null,
   "metadata": {},
   "outputs": [],
   "source": [
    "YawCacheDrop.make_stage().drop(cache_unk)\n",
    "YawCacheDrop.make_stage().drop(cache_ref)"
   ]
  },
  {
   "cell_type": "code",
   "execution_count": null,
   "metadata": {},
   "outputs": [],
   "source": []
  }
 ],
 "metadata": {
  "kernelspec": {
   "display_name": "yaw_rail",
   "language": "python",
   "name": "python3"
  },
  "language_info": {
   "codemirror_mode": {
    "name": "ipython",
    "version": 3
   },
   "file_extension": ".py",
   "mimetype": "text/x-python",
   "name": "python",
   "nbconvert_exporter": "python",
   "pygments_lexer": "ipython3",
   "version": "3.11.9"
  }
 },
 "nbformat": 4,
 "nbformat_minor": 2
}

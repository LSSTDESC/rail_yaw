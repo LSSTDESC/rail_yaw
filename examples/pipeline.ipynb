{
 "cells": [
  {
   "cell_type": "code",
   "execution_count": null,
   "metadata": {},
   "outputs": [],
   "source": [
    "# Ensure that no cached data is present if a previous run has been interrupted.\n",
    "# TODO: properly implement option to overwrite an exsisting cache directory.\n",
    "def clean_up():\n",
    "    import os\n",
    "    from shutil import rmtree\n",
    "\n",
    "    try:\n",
    "        os.mkdir(\"run\")\n",
    "    except OSError:\n",
    "        pass\n",
    "\n",
    "    for key in (\"ref\", \"unk\"):\n",
    "        try:\n",
    "            rmtree(f\"run/test_{key}\")\n",
    "        except FileNotFoundError:\n",
    "            pass\n",
    "\n",
    "    for path in (\"input\", \"output\", \"log\", \"pipeline\"):\n",
    "        try:\n",
    "            os.mkdir(f\"run/{path}\")\n",
    "        except OSError:\n",
    "            pass\n",
    "\n",
    "clean_up()"
   ]
  },
  {
   "cell_type": "code",
   "execution_count": null,
   "metadata": {},
   "outputs": [],
   "source": [
    "# step 1\n",
    "from yaw import UniformRandoms\n",
    "from rail.yaw_rail.utils import get_dc2_test_data\n",
    "\n",
    "from rail.yaw_rail import (\n",
    "    YawCacheCreate,     # step 2\n",
    "    YawAutoCorrelate,   # step 3\n",
    "    YawCrossCorrelate,  # step 4\n",
    "    YawSummarize,       # step 5\n",
    "    YawCacheDrop,       # step 6\n",
    ")  # equivalent: from rail.yaw_rail import *\n",
    "from rail.yaw_rail.cache import stage_helper  # utility for YawCacheCreate"
   ]
  },
  {
   "cell_type": "code",
   "execution_count": null,
   "metadata": {},
   "outputs": [],
   "source": [
    "from rail.core.stage import RailStage\n",
    "DS = RailStage.data_store\n",
    "DS.__class__.allow_overwrite = True"
   ]
  },
  {
   "cell_type": "code",
   "execution_count": null,
   "metadata": {},
   "outputs": [],
   "source": [
    "VERBOSE = \"debug\"  # verbosity level of built-in logger, disable with \"error\""
   ]
  },
  {
   "cell_type": "markdown",
   "metadata": {},
   "source": [
    "## Create the data and add it to the datastore"
   ]
  },
  {
   "cell_type": "code",
   "execution_count": null,
   "metadata": {},
   "outputs": [],
   "source": [
    "mock_data = get_dc2_test_data()  # downloads test data, cached for future calls\n",
    "redshifts = mock_data[\"z\"].to_numpy()\n",
    "zmin = redshifts.min()\n",
    "zmax = redshifts.max()\n",
    "n_data = len(mock_data)\n",
    "f\"N={n_data}, {zmin:.1f}<z<{zmax:.1f}\"\n",
    "\n",
    "mock_data.to_parquet(\"run/input/data.pqt\")"
   ]
  },
  {
   "cell_type": "code",
   "execution_count": null,
   "metadata": {},
   "outputs": [],
   "source": [
    "angular_rng = UniformRandoms(\n",
    "    mock_data[\"ra\"].min(),\n",
    "    mock_data[\"ra\"].max(),\n",
    "    mock_data[\"dec\"].min(),\n",
    "    mock_data[\"dec\"].max(),\n",
    "    seed=12345,\n",
    ")\n",
    "mock_rand = angular_rng.generate(n_data * 10, draw_from=dict(z=redshifts))\n",
    "\n",
    "mock_rand.to_parquet(\"run/input/rand.pqt\")"
   ]
  },
  {
   "cell_type": "markdown",
   "metadata": {},
   "source": [
    "## Instantiate the stages"
   ]
  },
  {
   "cell_type": "code",
   "execution_count": null,
   "metadata": {},
   "outputs": [],
   "source": [
    "stage_cache_ref = YawCacheCreate.make_stage(\n",
    "    #name=\"ref\",\n",
    "    #aliases=stage_helper(\"ref\"),\n",
    "    path=\"run/test_ref\",\n",
    "    overwrite=True,\n",
    "    ra_name=\"ra\",\n",
    "    dec_name=\"dec\",\n",
    "    redshift_name=\"z\",\n",
    "    n_patches=5,\n",
    "    verbose=VERBOSE,\n",
    ")\n",
    "\"\"\"\n",
    "stage_cache_unk = YawCacheCreate.make_stage(\n",
    "    name=\"unk\",\n",
    "    aliases=stage_helper(\"unk\"),\n",
    "    path=\"run/test_unk\",\n",
    "    overwrite=True,\n",
    "    ra_name=\"ra\",\n",
    "    dec_name=\"dec\",\n",
    "    patches=\"./test_ref\",\n",
    "    verbose=VERBOSE,\n",
    ")\n",
    "\"\"\"\n",
    "stage_cache_drop = YawCacheDrop.make_stage()"
   ]
  },
  {
   "cell_type": "code",
   "execution_count": null,
   "metadata": {},
   "outputs": [],
   "source": [
    "corr_config = dict(\n",
    "    rmin=100,\n",
    "    rmax=1000,\n",
    "    zmin=zmin,\n",
    "    zmax=zmax,\n",
    "    zbin_num=8,\n",
    "    verbose=VERBOSE,\n",
    ")\n",
    "\n",
    "stage_w_ss = YawAutoCorrelate.make_stage(**corr_config)\n",
    "\n",
    "stage_w_sp = YawCrossCorrelate.make_stage(**corr_config)\n",
    "\n",
    "stage_estimate = YawSummarize.make_stage(verbose=VERBOSE)"
   ]
  },
  {
   "cell_type": "markdown",
   "metadata": {},
   "source": [
    "## Build the pipeline"
   ]
  },
  {
   "cell_type": "code",
   "execution_count": null,
   "metadata": {},
   "outputs": [],
   "source": [
    "import ceci\n",
    "\n",
    "pipe = ceci.Pipeline.interactive()\n",
    "pipe.add_stage(stage_cache_ref)\n",
    "#pipe.add_stage(stage_cache_unk)\n",
    "#pipe.add_stage(stage_w_ss)\n",
    "#pipe.add_stage(stage_w_sp)\n",
    "#pipe.add_stage(stage_estimate)"
   ]
  },
  {
   "cell_type": "code",
   "execution_count": null,
   "metadata": {},
   "outputs": [],
   "source": [
    "pipe.initialize(\n",
    "    dict(\n",
    "        data=\"run/input/data.pqt\",\n",
    "        rand=\"run/input/rand.pqt\",\n",
    "        #data_unk=\"run/input/data.pqt\",\n",
    "        #rand_unk=\"run/input/rand.pqt\",\n",
    "    ),\n",
    "    dict(\n",
    "        output_dir=\"run/output\",\n",
    "        log_dir=\"run/log\",\n",
    "    ),\n",
    "    None,\n",
    ")\n",
    "#stage_w_ss.connect_input(stage_cache_ref, inputTag=\"sample\", outputTag=\"cache_ref\")\n",
    "#stage_w_ss.connect_input(stage_cache_ref)\n",
    "#stage_w_sp.connect_input(dict(referenc=stage_cache_ref, unknown=stage_cache_unk))\n",
    "#stage_estimate.connect_input([stage_w_sp, stage_w_ss, None])\n",
    "pipe.save(\"run/pipeline/stages.yml\")"
   ]
  },
  {
   "cell_type": "code",
   "execution_count": null,
   "metadata": {},
   "outputs": [],
   "source": [
    "%cat run/pipeline/stages.yml"
   ]
  },
  {
   "cell_type": "code",
   "execution_count": null,
   "metadata": {},
   "outputs": [],
   "source": [
    "%cat run/pipeline/stages_config.yml"
   ]
  },
  {
   "cell_type": "code",
   "execution_count": null,
   "metadata": {},
   "outputs": [],
   "source": [
    "ceci.Pipeline.read(\"run/pipeline/stages.yml\").run()"
   ]
  },
  {
   "cell_type": "code",
   "execution_count": null,
   "metadata": {},
   "outputs": [],
   "source": []
  }
 ],
 "metadata": {
  "kernelspec": {
   "display_name": "yaw_rail",
   "language": "python",
   "name": "python3"
  },
  "language_info": {
   "codemirror_mode": {
    "name": "ipython",
    "version": 3
   },
   "file_extension": ".py",
   "mimetype": "text/x-python",
   "name": "python",
   "nbconvert_exporter": "python",
   "pygments_lexer": "ipython3",
   "version": "3.11.9"
  }
 },
 "nbformat": 4,
 "nbformat_minor": 2
}
